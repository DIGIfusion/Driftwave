{
 "cells": [
  {
   "cell_type": "code",
   "execution_count": 1,
   "id": "ee9a943c-e619-414e-80e3-9cf504f53d67",
   "metadata": {},
   "outputs": [],
   "source": [
    "from CINN import CINN\n",
    "import torch\n",
    "from scipy.constants import pi\n",
    "import matplotlib.pyplot as plt\n",
    "from matplotlib.animation import FuncAnimation"
   ]
  },
  {
   "cell_type": "code",
   "execution_count": 2,
   "id": "c7da7f8c-2d0a-4589-80d9-060086691846",
   "metadata": {},
   "outputs": [],
   "source": [
    "def plot_driftwave(frame, model, resolution_t):\n",
    "    pos = torch.linspace(0,2*pi,100)\n",
    "    t_grid = torch.linspace(0,1e-3,resolution_t)\n",
    "\n",
    "    pred = model(torch.stack((pos,torch.full((100,),t_grid[frame])),-1))\n",
    "\n",
    "    ln.set_data(pos,pred.detach().numpy())\n",
    "    return ln,"
   ]
  },
  {
   "cell_type": "code",
   "execution_count": 3,
   "id": "ed393241-e05f-4db7-aad3-87f576ba8508",
   "metadata": {},
   "outputs": [],
   "source": [
    "T = 100\n",
    "Ln = 0.01\n",
    "v = -2*pi*T/Ln"
   ]
  },
  {
   "cell_type": "code",
   "execution_count": 4,
   "id": "63b05f7f-cd52-4e1f-9968-6c2f026c36ce",
   "metadata": {},
   "outputs": [],
   "source": [
    "network = CINN(v)"
   ]
  },
  {
   "cell_type": "code",
   "execution_count": 5,
   "id": "3fc440fe-2e1f-4c0e-9b40-67b75c7bbf8b",
   "metadata": {},
   "outputs": [],
   "source": [
    "weights = torch.load(\"ReLU_GPU/weights_ky=1_lr=2e-4_res_t=2000.pt\", map_location=torch.device('cpu'))"
   ]
  },
  {
   "cell_type": "code",
   "execution_count": 6,
   "id": "8129efd1-c1e5-49a2-a492-40b1a3db42a7",
   "metadata": {},
   "outputs": [
    {
     "ename": "RuntimeError",
     "evalue": "Error(s) in loading state_dict for CINN:\n\tMissing key(s) in state_dict: \"linear4.weight\", \"linear4.bias\". \n\tsize mismatch for linear1.weight: copying a param with shape torch.Size([1000, 1]) from checkpoint, the shape in current model is torch.Size([50, 1]).\n\tsize mismatch for linear1.bias: copying a param with shape torch.Size([1000]) from checkpoint, the shape in current model is torch.Size([50]).\n\tsize mismatch for linear2.weight: copying a param with shape torch.Size([1000, 1000]) from checkpoint, the shape in current model is torch.Size([50, 50]).\n\tsize mismatch for linear2.bias: copying a param with shape torch.Size([1000]) from checkpoint, the shape in current model is torch.Size([50]).\n\tsize mismatch for linear3.weight: copying a param with shape torch.Size([1, 1000]) from checkpoint, the shape in current model is torch.Size([50, 50]).\n\tsize mismatch for linear3.bias: copying a param with shape torch.Size([1]) from checkpoint, the shape in current model is torch.Size([50]).",
     "output_type": "error",
     "traceback": [
      "\u001b[0;31m---------------------------------------------------------------------------\u001b[0m",
      "\u001b[0;31mRuntimeError\u001b[0m                              Traceback (most recent call last)",
      "Cell \u001b[0;32mIn[6], line 1\u001b[0m\n\u001b[0;32m----> 1\u001b[0m network\u001b[38;5;241m.\u001b[39mload_state_dict(weights)\n",
      "File \u001b[0;32m~/anaconda3/lib/python3.11/site-packages/torch/nn/modules/module.py:2581\u001b[0m, in \u001b[0;36mModule.load_state_dict\u001b[0;34m(self, state_dict, strict, assign)\u001b[0m\n\u001b[1;32m   2573\u001b[0m         error_msgs\u001b[38;5;241m.\u001b[39minsert(\n\u001b[1;32m   2574\u001b[0m             \u001b[38;5;241m0\u001b[39m,\n\u001b[1;32m   2575\u001b[0m             \u001b[38;5;124m\"\u001b[39m\u001b[38;5;124mMissing key(s) in state_dict: \u001b[39m\u001b[38;5;132;01m{}\u001b[39;00m\u001b[38;5;124m. \u001b[39m\u001b[38;5;124m\"\u001b[39m\u001b[38;5;241m.\u001b[39mformat(\n\u001b[1;32m   2576\u001b[0m                 \u001b[38;5;124m\"\u001b[39m\u001b[38;5;124m, \u001b[39m\u001b[38;5;124m\"\u001b[39m\u001b[38;5;241m.\u001b[39mjoin(\u001b[38;5;124mf\u001b[39m\u001b[38;5;124m'\u001b[39m\u001b[38;5;124m\"\u001b[39m\u001b[38;5;132;01m{\u001b[39;00mk\u001b[38;5;132;01m}\u001b[39;00m\u001b[38;5;124m\"\u001b[39m\u001b[38;5;124m'\u001b[39m \u001b[38;5;28;01mfor\u001b[39;00m k \u001b[38;5;129;01min\u001b[39;00m missing_keys)\n\u001b[1;32m   2577\u001b[0m             ),\n\u001b[1;32m   2578\u001b[0m         )\n\u001b[1;32m   2580\u001b[0m \u001b[38;5;28;01mif\u001b[39;00m \u001b[38;5;28mlen\u001b[39m(error_msgs) \u001b[38;5;241m>\u001b[39m \u001b[38;5;241m0\u001b[39m:\n\u001b[0;32m-> 2581\u001b[0m     \u001b[38;5;28;01mraise\u001b[39;00m \u001b[38;5;167;01mRuntimeError\u001b[39;00m(\n\u001b[1;32m   2582\u001b[0m         \u001b[38;5;124m\"\u001b[39m\u001b[38;5;124mError(s) in loading state_dict for \u001b[39m\u001b[38;5;132;01m{}\u001b[39;00m\u001b[38;5;124m:\u001b[39m\u001b[38;5;130;01m\\n\u001b[39;00m\u001b[38;5;130;01m\\t\u001b[39;00m\u001b[38;5;132;01m{}\u001b[39;00m\u001b[38;5;124m\"\u001b[39m\u001b[38;5;241m.\u001b[39mformat(\n\u001b[1;32m   2583\u001b[0m             \u001b[38;5;28mself\u001b[39m\u001b[38;5;241m.\u001b[39m\u001b[38;5;18m__class__\u001b[39m\u001b[38;5;241m.\u001b[39m\u001b[38;5;18m__name__\u001b[39m, \u001b[38;5;124m\"\u001b[39m\u001b[38;5;130;01m\\n\u001b[39;00m\u001b[38;5;130;01m\\t\u001b[39;00m\u001b[38;5;124m\"\u001b[39m\u001b[38;5;241m.\u001b[39mjoin(error_msgs)\n\u001b[1;32m   2584\u001b[0m         )\n\u001b[1;32m   2585\u001b[0m     )\n\u001b[1;32m   2586\u001b[0m \u001b[38;5;28;01mreturn\u001b[39;00m _IncompatibleKeys(missing_keys, unexpected_keys)\n",
      "\u001b[0;31mRuntimeError\u001b[0m: Error(s) in loading state_dict for CINN:\n\tMissing key(s) in state_dict: \"linear4.weight\", \"linear4.bias\". \n\tsize mismatch for linear1.weight: copying a param with shape torch.Size([1000, 1]) from checkpoint, the shape in current model is torch.Size([50, 1]).\n\tsize mismatch for linear1.bias: copying a param with shape torch.Size([1000]) from checkpoint, the shape in current model is torch.Size([50]).\n\tsize mismatch for linear2.weight: copying a param with shape torch.Size([1000, 1000]) from checkpoint, the shape in current model is torch.Size([50, 50]).\n\tsize mismatch for linear2.bias: copying a param with shape torch.Size([1000]) from checkpoint, the shape in current model is torch.Size([50]).\n\tsize mismatch for linear3.weight: copying a param with shape torch.Size([1, 1000]) from checkpoint, the shape in current model is torch.Size([50, 50]).\n\tsize mismatch for linear3.bias: copying a param with shape torch.Size([1]) from checkpoint, the shape in current model is torch.Size([50])."
     ]
    }
   ],
   "source": [
    "network.load_state_dict(weights)"
   ]
  },
  {
   "cell_type": "code",
   "execution_count": null,
   "id": "4513a1de-5102-431e-a0b2-b1857e1767d0",
   "metadata": {},
   "outputs": [],
   "source": [
    "resolution_t = 100"
   ]
  },
  {
   "cell_type": "code",
   "execution_count": null,
   "id": "dcf04d4a-50cc-4f73-88aa-4f5fd7fdc05e",
   "metadata": {},
   "outputs": [],
   "source": [
    "fig = plt.figure()\n",
    "ax = plt.axes(xlim=(0, 2*pi), ylim=(-1,1))\n",
    "ln, = ax.plot([],[])\n",
    "ln2, = ax.plot([],[])"
   ]
  },
  {
   "cell_type": "code",
   "execution_count": null,
   "id": "6864a7c0-ac35-4edd-a67d-ba7f80890ec8",
   "metadata": {},
   "outputs": [],
   "source": [
    "ani = FuncAnimation(fig, plot_driftwave, frames=resolution_t, interval=100, fargs=(network,resolution_t,), blit=True)"
   ]
  },
  {
   "cell_type": "code",
   "execution_count": null,
   "id": "efc063e0-c989-4c88-b7b3-bb78e8a1943a",
   "metadata": {},
   "outputs": [],
   "source": [
    "plt.show()\n",
    "ani.save(\"ReLU_GPU/anim_ky=1_lr=2e-4_res_t=2000.mp4\")"
   ]
  }
 ],
 "metadata": {
  "kernelspec": {
   "display_name": "Python 3 (ipykernel)",
   "language": "python",
   "name": "python3"
  },
  "language_info": {
   "codemirror_mode": {
    "name": "ipython",
    "version": 3
   },
   "file_extension": ".py",
   "mimetype": "text/x-python",
   "name": "python",
   "nbconvert_exporter": "python",
   "pygments_lexer": "ipython3",
   "version": "3.11.5"
  }
 },
 "nbformat": 4,
 "nbformat_minor": 5
}
