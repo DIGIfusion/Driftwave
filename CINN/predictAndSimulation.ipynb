{
 "cells": [
  {
   "cell_type": "code",
   "execution_count": 1,
   "id": "ee9a943c-e619-414e-80e3-9cf504f53d67",
   "metadata": {},
   "outputs": [],
   "source": [
    "from CINN import CINN\n",
    "import torch\n",
    "from scipy.constants import pi\n",
    "import matplotlib.pyplot as plt\n",
    "from matplotlib.animation import FuncAnimation\n",
    "import pandas as pd"
   ]
  },
  {
   "cell_type": "code",
   "execution_count": 2,
   "id": "c7da7f8c-2d0a-4589-80d9-060086691846",
   "metadata": {},
   "outputs": [],
   "source": [
    "def plot_driftwave(frame, model, resolution_t):\n",
    "    pos = torch.linspace(0,2*pi,100)\n",
    "    t_grid = torch.linspace(0,1e-3,resolution_t)\n",
    "\n",
    "    pred = model(torch.stack((pos,torch.full((100,),t_grid[frame])),-1))\n",
    "\n",
    "    ln.set_data(pos,pred.detach().numpy())\n",
    "    return ln,"
   ]
  },
  {
   "cell_type": "code",
   "execution_count": 3,
   "id": "86e42225-88b5-4f76-b78a-61319f27d92b",
   "metadata": {},
   "outputs": [],
   "source": [
    "def plot_from_file(frame, model):\n",
    "    pos = torch.linspace(0,2*pi,100)\n",
    "    file_name = \"../../NewDataset/Ln0.01Ky1/fileTimestep\" + str(frame) + \"Ln0.01Ky1.0.csv\"\n",
    "    df = pd.read_csv(file_name)\n",
    "    Ts = df.iloc[0].loc['Ts']\n",
    "    sol = torch.tensor(df['sol']/1e17)\n",
    "\n",
    "    pred = model(torch.stack((pos,torch.full((100,),Ts)),-1))\n",
    "\n",
    "    ln.set_data(pos, sol.detach().numpy())\n",
    "    ln2.set_data(pos, pred.detach().numpy())\n",
    "    return ln,ln2"
   ]
  },
  {
   "cell_type": "code",
   "execution_count": 4,
   "id": "ed393241-e05f-4db7-aad3-87f576ba8508",
   "metadata": {},
   "outputs": [],
   "source": [
    "T = 100\n",
    "Ln = 0.01\n",
    "v = -2*pi*T/Ln"
   ]
  },
  {
   "cell_type": "code",
   "execution_count": 5,
   "id": "63b05f7f-cd52-4e1f-9968-6c2f026c36ce",
   "metadata": {},
   "outputs": [],
   "source": [
    "network = CINN(v)"
   ]
  },
  {
   "cell_type": "code",
   "execution_count": 6,
   "id": "3fc440fe-2e1f-4c0e-9b40-67b75c7bbf8b",
   "metadata": {},
   "outputs": [],
   "source": [
    "weights = torch.load(\"weights.pt\", map_location=torch.device('cpu'))"
   ]
  },
  {
   "cell_type": "code",
   "execution_count": 7,
   "id": "8129efd1-c1e5-49a2-a492-40b1a3db42a7",
   "metadata": {},
   "outputs": [
    {
     "data": {
      "text/plain": [
       "<All keys matched successfully>"
      ]
     },
     "execution_count": 7,
     "metadata": {},
     "output_type": "execute_result"
    }
   ],
   "source": [
    "network.load_state_dict(weights)"
   ]
  },
  {
   "cell_type": "code",
   "execution_count": 8,
   "id": "4513a1de-5102-431e-a0b2-b1857e1767d0",
   "metadata": {},
   "outputs": [],
   "source": [
    "resolution_t = 100"
   ]
  },
  {
   "cell_type": "code",
   "execution_count": 9,
   "id": "dcf04d4a-50cc-4f73-88aa-4f5fd7fdc05e",
   "metadata": {},
   "outputs": [
    {
     "data": {
      "image/png": "[encoded data removed]",
      "text/plain": [
       "<Figure size 640x480 with 1 Axes>"
      ]
     },
     "metadata": {},
     "output_type": "display_data"
    }
   ],
   "source": [
    "fig = plt.figure()\n",
    "ax = plt.axes(xlim=(0, 2*pi), ylim=(-1,1))\n",
    "ln, = ax.plot([],[])\n",
    "ln2, = ax.plot([],[])"
   ]
  },
  {
   "cell_type": "code",
   "execution_count": 10,
   "id": "51175563-daae-420d-ac91-639d21cd1c82",
   "metadata": {},
   "outputs": [],
   "source": [
    "ani = FuncAnimation(fig, plot_from_file, frames=1000, interval=100, fargs=(network,), blit=True)"
   ]
  },
  {
   "cell_type": "code",
   "execution_count": 11,
   "id": "003d491e-bbd3-4fab-94d0-9046b5a1f325",
   "metadata": {},
   "outputs": [],
   "source": [
    "ani.save(\"anim.mp4\")"
   ]
  },
  {
   "cell_type": "code",
   "execution_count": null,
   "id": "5bcc239f-b0f8-4be2-852f-a47b239a5526",
   "metadata": {},
   "outputs": [],
   "source": []
  }
 ],
 "metadata": {
  "kernelspec": {
   "display_name": "Python 3 (ipykernel)",
   "language": "python",
   "name": "python3"
  },
  "language_info": {
   "codemirror_mode": {
    "name": "ipython",
    "version": 3
   },
   "file_extension": ".py",
   "mimetype": "text/x-python",
   "name": "python",
   "nbconvert_exporter": "python",
   "pygments_lexer": "ipython3",
   "version": "3.11.5"
  }
 },
 "nbformat": 4,
 "nbformat_minor": 5
}
